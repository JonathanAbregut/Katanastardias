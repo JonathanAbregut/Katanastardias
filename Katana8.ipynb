{
 "cells": [
  {
   "cell_type": "code",
   "execution_count": 1,
   "metadata": {},
   "outputs": [],
   "source": [
    "planeta = {\n",
    "    'nombre': 'Marte',\n",
    "    'lunas': 2\n",
    "}"
   ]
  },
  {
   "cell_type": "code",
   "execution_count": 2,
   "metadata": {},
   "outputs": [
    {
     "name": "stdout",
     "output_type": "stream",
     "text": [
      "Marte debe tener 2 lunas\n"
     ]
    }
   ],
   "source": [
    "print(f'{planeta[\"nombre\"]} debe tener {planeta[\"lunas\"]} lunas')"
   ]
  },
  {
   "cell_type": "code",
   "execution_count": 3,
   "metadata": {},
   "outputs": [],
   "source": [
    "planeta['periferia (km)'] = {\n",
    "    'linea polar': 6752,\n",
    "    'linea ecuador': 6792\n",
    "}"
   ]
  },
  {
   "cell_type": "code",
   "execution_count": 4,
   "metadata": {},
   "outputs": [
    {
     "name": "stdout",
     "output_type": "stream",
     "text": [
      "Marte tiene una periferia polar de 6752\n"
     ]
    }
   ],
   "source": [
    "print(f'{planeta[\"nombre\"]} tiene una periferia polar de {planeta[\"periferia (km)\"][\"linea polar\"]}')"
   ]
  },
  {
   "cell_type": "code",
   "execution_count": 7,
   "metadata": {},
   "outputs": [],
   "source": [
    "planeta_lunas = {\n",
    "    'mercurio': 0,\n",
    "    'venus': 0,\n",
    "    'tierra': 1,\n",
    "    'marte': 2,\n",
    "    'jupiter': 79,\n",
    "    'saturno': 82,\n",
    "    'uran0': 27,\n",
    "    'neptun0': 14,\n",
    "    'plut0n': 5,\n",
    "    'haumeas': 2,\n",
    "    'Nakemake': 1,\n",
    "    'Eris': 1\n",
    "}"
   ]
  },
  {
   "cell_type": "code",
   "execution_count": 8,
   "metadata": {},
   "outputs": [],
   "source": [
    "lunas = planeta_lunas.values()\n",
    "planetas = len(planeta_lunas.keys())"
   ]
  },
  {
   "cell_type": "code",
   "execution_count": 9,
   "metadata": {},
   "outputs": [
    {
     "name": "stdout",
     "output_type": "stream",
     "text": [
      "17.833333333333332\n"
     ]
    }
   ],
   "source": [
    "total_lunas = 0\n",
    "for luna in lunas:\n",
    "    total_lunas = total_lunas + luna\n",
    "\n",
    "average = total_lunas / planetas\n",
    "\n",
    "# Muestra el promedio\n",
    "print(average)"
   ]
  }
 ],
 "metadata": {
  "interpreter": {
   "hash": "cfcfbbd76e88e95dc35e2ca9edf0c1e882d0553cc29bc4cac8c0f4eabeb0ecb9"
  },
  "kernelspec": {
   "display_name": "Python 3.10.2 64-bit",
   "language": "python",
   "name": "python3"
  },
  "language_info": {
   "codemirror_mode": {
    "name": "ipython",
    "version": 3
   },
   "file_extension": ".py",
   "mimetype": "text/x-python",
   "name": "python",
   "nbconvert_exporter": "python",
   "pygments_lexer": "ipython3",
   "version": "3.10.2"
  },
  "orig_nbformat": 4
 },
 "nbformat": 4,
 "nbformat_minor": 2
}
